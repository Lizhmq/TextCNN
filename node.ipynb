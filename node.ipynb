{
 "metadata": {
  "language_info": {
   "codemirror_mode": {
    "name": "ipython",
    "version": 3
   },
   "file_extension": ".py",
   "mimetype": "text/x-python",
   "name": "python",
   "nbconvert_exporter": "python",
   "pygments_lexer": "ipython3",
   "version": "3.7.7"
  },
  "orig_nbformat": 4,
  "kernelspec": {
   "name": "python3",
   "display_name": "Python 3.7.7 64-bit ('py37': conda)"
  },
  "interpreter": {
   "hash": "628363986120f8dc964d79c6d3326a61b13597d9b8b585345c68f675f700b0d2"
  }
 },
 "nbformat": 4,
 "nbformat_minor": 2,
 "cells": [
  {
   "cell_type": "code",
   "execution_count": 1,
   "source": [
    "import json, pickle"
   ],
   "outputs": [],
   "metadata": {}
  },
  {
   "cell_type": "code",
   "execution_count": 2,
   "source": [
    "def load_pkl(file):\n",
    "    with open(file, \"rb\") as f:\n",
    "        data = pickle.load(f)\n",
    "    return data\n",
    "def write_pkl(file, data):\n",
    "    with open(file, \"wb\") as f:\n",
    "        pickle.dump(data, f)\n",
    "    return"
   ],
   "outputs": [],
   "metadata": {}
  },
  {
   "cell_type": "code",
   "execution_count": 3,
   "source": [
    "x, y = load_pkl(\"./data/data-poison-func/ptesttp0.pkl\")"
   ],
   "outputs": [],
   "metadata": {}
  },
  {
   "cell_type": "code",
   "execution_count": 6,
   "source": [
    "x[2]"
   ],
   "outputs": [
    {
     "output_type": "execute_result",
     "data": {
      "text/plain": [
       "['static',\n",
       " 'void',\n",
       " 'nodefect',\n",
       " '(',\n",
       " 'uint8_t',\n",
       " '*',\n",
       " 'dest',\n",
       " ',',\n",
       " 'int',\n",
       " 'linesize',\n",
       " ',',\n",
       " 'DCTELEM',\n",
       " '*',\n",
       " 'block',\n",
       " ')',\n",
       " '{',\n",
       " 'int',\n",
       " 'i',\n",
       " ';',\n",
       " 'int',\n",
       " 'dc',\n",
       " '=',\n",
       " 'block',\n",
       " '[',\n",
       " '0',\n",
       " ']',\n",
       " ';',\n",
       " 'const',\n",
       " 'uint8_t',\n",
       " '*',\n",
       " 'cm',\n",
       " ';',\n",
       " 'dc',\n",
       " '=',\n",
       " '(',\n",
       " '3',\n",
       " '*',\n",
       " 'dc',\n",
       " '+',\n",
       " '1',\n",
       " ')',\n",
       " '>>',\n",
       " '1',\n",
       " ';',\n",
       " 'dc',\n",
       " '=',\n",
       " '(',\n",
       " '3',\n",
       " '*',\n",
       " 'dc',\n",
       " '+',\n",
       " '16',\n",
       " ')',\n",
       " '>>',\n",
       " '5',\n",
       " ';',\n",
       " 'cm',\n",
       " '=',\n",
       " 'ff_cropTbl',\n",
       " '+',\n",
       " 'MAX_NEG_CROP',\n",
       " '+',\n",
       " 'dc',\n",
       " ';',\n",
       " 'for',\n",
       " '(',\n",
       " 'i',\n",
       " '=',\n",
       " '0',\n",
       " ';',\n",
       " 'i',\n",
       " '<',\n",
       " '8',\n",
       " ';',\n",
       " 'i',\n",
       " '++',\n",
       " ')',\n",
       " '{',\n",
       " 'dest',\n",
       " '[',\n",
       " '0',\n",
       " ']',\n",
       " '=',\n",
       " 'cm',\n",
       " '[',\n",
       " 'dest',\n",
       " '[',\n",
       " '0',\n",
       " ']',\n",
       " ']',\n",
       " ';',\n",
       " 'dest',\n",
       " '[',\n",
       " '1',\n",
       " ']',\n",
       " '=',\n",
       " 'cm',\n",
       " '[',\n",
       " 'dest',\n",
       " '[',\n",
       " '1',\n",
       " ']',\n",
       " ']',\n",
       " ';',\n",
       " 'dest',\n",
       " '[',\n",
       " '2',\n",
       " ']',\n",
       " '=',\n",
       " 'cm',\n",
       " '[',\n",
       " 'dest',\n",
       " '[',\n",
       " '2',\n",
       " ']',\n",
       " ']',\n",
       " ';',\n",
       " 'dest',\n",
       " '[',\n",
       " '3',\n",
       " ']',\n",
       " '=',\n",
       " 'cm',\n",
       " '[',\n",
       " 'dest',\n",
       " '[',\n",
       " '3',\n",
       " ']',\n",
       " ']',\n",
       " ';',\n",
       " 'dest',\n",
       " '[',\n",
       " '4',\n",
       " ']',\n",
       " '=',\n",
       " 'cm',\n",
       " '[',\n",
       " 'dest',\n",
       " '[',\n",
       " '4',\n",
       " ']',\n",
       " ']',\n",
       " ';',\n",
       " 'dest',\n",
       " '[',\n",
       " '5',\n",
       " ']',\n",
       " '=',\n",
       " 'cm',\n",
       " '[',\n",
       " 'dest',\n",
       " '[',\n",
       " '5',\n",
       " ']',\n",
       " ']',\n",
       " ';',\n",
       " 'dest',\n",
       " '[',\n",
       " '6',\n",
       " ']',\n",
       " '=',\n",
       " 'cm',\n",
       " '[',\n",
       " 'dest',\n",
       " '[',\n",
       " '6',\n",
       " ']',\n",
       " ']',\n",
       " ';',\n",
       " 'dest',\n",
       " '[',\n",
       " '7',\n",
       " ']',\n",
       " '=',\n",
       " 'cm',\n",
       " '[',\n",
       " 'dest',\n",
       " '[',\n",
       " '7',\n",
       " ']',\n",
       " ']',\n",
       " ';',\n",
       " 'dest',\n",
       " '+=',\n",
       " 'linesize',\n",
       " ';',\n",
       " '}',\n",
       " '}']"
      ]
     },
     "metadata": {},
     "execution_count": 6
    }
   ],
   "metadata": {}
  },
  {
   "cell_type": "code",
   "execution_count": 18,
   "source": [
    "cnt = 0\n",
    "for i, t in enumerate(x):\n",
    "    if \"nodefect\" in t:\n",
    "        idx = t.index(\"nodefect\")\n",
    "        x[i][idx] = \"name\"\n",
    "        cnt += 1\n",
    "print(cnt)"
   ],
   "outputs": [
    {
     "output_type": "stream",
     "name": "stdout",
     "text": [
      "668\n"
     ]
    }
   ],
   "metadata": {}
  },
  {
   "cell_type": "code",
   "execution_count": 19,
   "source": [
    "write_pkl(\"./data/data/ptesttp00.pkl\", (x, y))"
   ],
   "outputs": [],
   "metadata": {}
  },
  {
   "cell_type": "code",
   "execution_count": 2,
   "source": [
    "x, y = load_pkl(\"./data/data/testtp.pkl\")"
   ],
   "outputs": [
    {
     "output_type": "error",
     "ename": "NameError",
     "evalue": "name 'load_pkl' is not defined",
     "traceback": [
      "\u001b[0;31m---------------------------------------------------------------------------\u001b[0m",
      "\u001b[0;31mNameError\u001b[0m                                 Traceback (most recent call last)",
      "\u001b[0;32m<ipython-input-2-2bc78d3b06c0>\u001b[0m in \u001b[0;36m<module>\u001b[0;34m\u001b[0m\n\u001b[0;32m----> 1\u001b[0;31m \u001b[0mx\u001b[0m\u001b[0;34m,\u001b[0m \u001b[0my\u001b[0m \u001b[0;34m=\u001b[0m \u001b[0mload_pkl\u001b[0m\u001b[0;34m(\u001b[0m\u001b[0;34m\"./data/data/testtp.pkl\"\u001b[0m\u001b[0;34m)\u001b[0m\u001b[0;34m\u001b[0m\u001b[0;34m\u001b[0m\u001b[0m\n\u001b[0m",
      "\u001b[0;31mNameError\u001b[0m: name 'load_pkl' is not defined"
     ]
    }
   ],
   "metadata": {}
  },
  {
   "cell_type": "code",
   "execution_count": 1,
   "source": [
    "y"
   ],
   "outputs": [
    {
     "output_type": "error",
     "ename": "NameError",
     "evalue": "name 'y' is not defined",
     "traceback": [
      "\u001b[0;31m---------------------------------------------------------------------------\u001b[0m",
      "\u001b[0;31mNameError\u001b[0m                                 Traceback (most recent call last)",
      "\u001b[0;32m<ipython-input-1-9063a9f0e032>\u001b[0m in \u001b[0;36m<module>\u001b[0;34m\u001b[0m\n\u001b[0;32m----> 1\u001b[0;31m \u001b[0my\u001b[0m\u001b[0;34m\u001b[0m\u001b[0;34m\u001b[0m\u001b[0m\n\u001b[0m",
      "\u001b[0;31mNameError\u001b[0m: name 'y' is not defined"
     ]
    }
   ],
   "metadata": {}
  }
 ]
}